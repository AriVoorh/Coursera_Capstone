{
 "cells": [
  {
   "cell_type": "markdown",
   "metadata": {},
   "source": [
    "The first stage of this project is to retrieve and clean the data that we will work with. Having completed this notebook we will end up creating a csv file containing a list of neighborhoods of Toronto together with boroughs they are contained in and the postal codes assigned to them. \n",
    "\n",
    "So, let us first upload all libraries we will use: "
   ]
  },
  {
   "cell_type": "code",
   "execution_count": 30,
   "metadata": {},
   "outputs": [],
   "source": [
    "from urllib.request import urlopen\n",
    "from bs4 import BeautifulSoup\n",
    "import pandas as pd\n",
    "import numpy as np\n",
    "import ssl\n",
    "import re"
   ]
  },
  {
   "cell_type": "markdown",
   "metadata": {},
   "source": [
    "To retrieve the abovementioned data, we will use the following Wikipedia page. Before trying to to anything with it, we of course look at its code using the browser. We notice the 'tr' tags that define rows in the HTML table, and 'td' tags defining each cell. "
   ]
  },
  {
   "cell_type": "code",
   "execution_count": 31,
   "metadata": {},
   "outputs": [],
   "source": [
    "url = 'https://en.wikipedia.org/wiki/List_of_postal_codes_of_Canada:_M'"
   ]
  },
  {
   "cell_type": "markdown",
   "metadata": {},
   "source": [
    "Now, let us open the page using BeautifulSoup and find all the 'tr' tags. "
   ]
  },
  {
   "cell_type": "code",
   "execution_count": 32,
   "metadata": {},
   "outputs": [],
   "source": [
    "html = urlopen(url, context=ctx).read()\n",
    "soup = BeautifulSoup(html, \"html.parser\")\n",
    "tags = soup('tr')"
   ]
  },
  {
   "cell_type": "markdown",
   "metadata": {},
   "source": [
    "Let us now find all the lines that will become part of our dataframe. We make a list called 'good' of tags which satisfy the following 2 properties: \n",
    "    1. The corresponding line contains a postcode format pattern, namely, a combination of letter M, a decimal number and another capital letter.  \n",
    "    2. The postcode should be assigned to some Borough. So, we check whether the entry 'Not assigned' occurs in the corresponding row more than one time. \n",
    "We also make a list of all good postcodes and check that numbers match.  "
   ]
  },
  {
   "cell_type": "code",
   "execution_count": 33,
   "metadata": {},
   "outputs": [
    {
     "name": "stdout",
     "output_type": "stream",
     "text": [
      "211 211\n"
     ]
    }
   ],
   "source": [
    "good=list()\n",
    "postcodes=list()\n",
    "for tag in tags:\n",
    "    line = tag.decode()\n",
    "    try:\n",
    "        postcode=re.findall('>(M[0-9][A-Z])<',line)[0]\n",
    "        if len(re.findall('Not assigned',line))==2:\n",
    "            continue\n",
    "        good.append(tag)\n",
    "        postcodes.append(postcode)\n",
    "        \n",
    "        \n",
    "    except:\n",
    "        continue   \n",
    "print(len(good),len(postcodes))"
   ]
  },
  {
   "cell_type": "markdown",
   "metadata": {},
   "source": [
    "Now, we make a dictionary using our data. Its keys are all occuring pairs of type (postcode, borough) and at first we assign an empty list to each of the keys as the value. To extract the borough and neighborhood we first delete all newline characters and split the line into 3 lines using the tag 'td' as separator, then in the 0th line we look for the postcode, and in the 1st and 2nd lines we look for combinations which have '>' on their left, start with a capital letter and do not contain characters like < and / in them. "
   ]
  },
  {
   "cell_type": "code",
   "execution_count": 34,
   "metadata": {
    "scrolled": true
   },
   "outputs": [
    {
     "name": "stdout",
     "output_type": "stream",
     "text": [
      "103\n"
     ]
    }
   ],
   "source": [
    "#making a dictionary with our data\n",
    "neigh=dict()\n",
    "for tag in good:\n",
    "    line=tag.decode().replace('\\n','')\n",
    "    row=line.split('/td><td')\n",
    "    postcode=re.findall('M\\d\\w',row[0])[0]\n",
    "    borough=re.findall('>([A-Z][^</]+)',row[1])[0]\n",
    "    neigh[postcode,borough]=list()\n",
    "print(len(neigh))    \n",
    "    \n",
    "   \n",
    "   "
   ]
  },
  {
   "cell_type": "markdown",
   "metadata": {},
   "source": [
    "Here, we add the neighborhoods contained in the corresponding borough and having the corresponding postcode into the list of values of the dictionary neigh(). "
   ]
  },
  {
   "cell_type": "code",
   "execution_count": 35,
   "metadata": {},
   "outputs": [],
   "source": [
    "for postcode,borough in neigh.keys():\n",
    "    for tag in good:\n",
    "        line=tag.decode().replace('\\n','')\n",
    "        row=line.split('/td><td')\n",
    "        p=re.findall('M\\d\\w',row[0])[0]\n",
    "        b=re.findall('>([A-Z][^</]+)',row[1])[0]\n",
    "        n=re.findall('>([A-Z][^</]+)<*/*a*>*</td></tr>',row[2])[0]\n",
    "        if p==postcode and b==borough:\n",
    "            neigh[postcode,borough].append(n)            "
   ]
  },
  {
   "cell_type": "markdown",
   "metadata": {},
   "source": [
    "Now we deal with 'Not assigned' in case of the neighborhood. For every such case we simply give the neighborhood the same name as the borough. "
   ]
  },
  {
   "cell_type": "code",
   "execution_count": 36,
   "metadata": {
    "scrolled": true
   },
   "outputs": [],
   "source": [
    "for postcode,borough in neigh.keys():\n",
    "    if neigh[postcode,borough]==['Not assigned']:\n",
    "        neigh[postcode,borough]=[borough]      "
   ]
  },
  {
   "cell_type": "markdown",
   "metadata": {},
   "source": [
    "Finally, we make a dictionary indexed by integers with values of type (postcode, borough, list of neighborhoods), turn it into a dataframe, transpose it and name the columns."
   ]
  },
  {
   "cell_type": "code",
   "execution_count": 37,
   "metadata": {},
   "outputs": [],
   "source": [
    "data=dict()\n",
    "index=0\n",
    "for postcode,borough in neigh.keys():\n",
    "    neighborhoods=', '.join(neigh[postcode,borough])\n",
    "    data[index]=[postcode,borough,neighborhoods]\n",
    "    index=index+1\n",
    "df=pd.DataFrame.from_dict(data).transpose() \n",
    "df.columns=['Postcode','Borough','Neighborhoods']"
   ]
  },
  {
   "cell_type": "markdown",
   "metadata": {},
   "source": [
    "Let's display some part of the dataframe to make sure we see what we want to see there. "
   ]
  },
  {
   "cell_type": "code",
   "execution_count": 38,
   "metadata": {},
   "outputs": [
    {
     "data": {
      "text/html": [
       "<div>\n",
       "<style scoped>\n",
       "    .dataframe tbody tr th:only-of-type {\n",
       "        vertical-align: middle;\n",
       "    }\n",
       "\n",
       "    .dataframe tbody tr th {\n",
       "        vertical-align: top;\n",
       "    }\n",
       "\n",
       "    .dataframe thead th {\n",
       "        text-align: right;\n",
       "    }\n",
       "</style>\n",
       "<table border=\"1\" class=\"dataframe\">\n",
       "  <thead>\n",
       "    <tr style=\"text-align: right;\">\n",
       "      <th></th>\n",
       "      <th>Postcode</th>\n",
       "      <th>Borough</th>\n",
       "      <th>Neighborhoods</th>\n",
       "    </tr>\n",
       "  </thead>\n",
       "  <tbody>\n",
       "    <tr>\n",
       "      <th>0</th>\n",
       "      <td>M3A</td>\n",
       "      <td>North York</td>\n",
       "      <td>Parkwoods</td>\n",
       "    </tr>\n",
       "    <tr>\n",
       "      <th>1</th>\n",
       "      <td>M4A</td>\n",
       "      <td>North York</td>\n",
       "      <td>Victoria Village</td>\n",
       "    </tr>\n",
       "    <tr>\n",
       "      <th>2</th>\n",
       "      <td>M5A</td>\n",
       "      <td>Downtown Toronto</td>\n",
       "      <td>Harbourfront, Regent Park</td>\n",
       "    </tr>\n",
       "    <tr>\n",
       "      <th>3</th>\n",
       "      <td>M6A</td>\n",
       "      <td>North York</td>\n",
       "      <td>Lawrence Heights, Lawrence Manor</td>\n",
       "    </tr>\n",
       "    <tr>\n",
       "      <th>4</th>\n",
       "      <td>M7A</td>\n",
       "      <td>Queen's Park</td>\n",
       "      <td>Queen's Park</td>\n",
       "    </tr>\n",
       "    <tr>\n",
       "      <th>5</th>\n",
       "      <td>M9A</td>\n",
       "      <td>Etobicoke</td>\n",
       "      <td>Islington Avenue</td>\n",
       "    </tr>\n",
       "    <tr>\n",
       "      <th>6</th>\n",
       "      <td>M1B</td>\n",
       "      <td>Scarborough</td>\n",
       "      <td>Rouge, Malvern</td>\n",
       "    </tr>\n",
       "    <tr>\n",
       "      <th>7</th>\n",
       "      <td>M3B</td>\n",
       "      <td>North York</td>\n",
       "      <td>Don Mills North</td>\n",
       "    </tr>\n",
       "    <tr>\n",
       "      <th>8</th>\n",
       "      <td>M4B</td>\n",
       "      <td>East York</td>\n",
       "      <td>Woodbine Gardens, Parkview Hill</td>\n",
       "    </tr>\n",
       "    <tr>\n",
       "      <th>9</th>\n",
       "      <td>M5B</td>\n",
       "      <td>Downtown Toronto</td>\n",
       "      <td>Ryerson, Garden District</td>\n",
       "    </tr>\n",
       "    <tr>\n",
       "      <th>10</th>\n",
       "      <td>M6B</td>\n",
       "      <td>North York</td>\n",
       "      <td>Glencairn</td>\n",
       "    </tr>\n",
       "    <tr>\n",
       "      <th>11</th>\n",
       "      <td>M9B</td>\n",
       "      <td>Etobicoke</td>\n",
       "      <td>Cloverdale, Islington, Martin Grove, Princess ...</td>\n",
       "    </tr>\n",
       "    <tr>\n",
       "      <th>12</th>\n",
       "      <td>M1C</td>\n",
       "      <td>Scarborough</td>\n",
       "      <td>Highland Creek, Rouge Hill, Port Union</td>\n",
       "    </tr>\n",
       "    <tr>\n",
       "      <th>13</th>\n",
       "      <td>M3C</td>\n",
       "      <td>North York</td>\n",
       "      <td>Flemingdon Park, Don Mills South</td>\n",
       "    </tr>\n",
       "    <tr>\n",
       "      <th>14</th>\n",
       "      <td>M4C</td>\n",
       "      <td>East York</td>\n",
       "      <td>Woodbine Heights</td>\n",
       "    </tr>\n",
       "  </tbody>\n",
       "</table>\n",
       "</div>"
      ],
      "text/plain": [
       "   Postcode           Borough  \\\n",
       "0       M3A        North York   \n",
       "1       M4A        North York   \n",
       "2       M5A  Downtown Toronto   \n",
       "3       M6A        North York   \n",
       "4       M7A      Queen's Park   \n",
       "5       M9A         Etobicoke   \n",
       "6       M1B       Scarborough   \n",
       "7       M3B        North York   \n",
       "8       M4B         East York   \n",
       "9       M5B  Downtown Toronto   \n",
       "10      M6B        North York   \n",
       "11      M9B         Etobicoke   \n",
       "12      M1C       Scarborough   \n",
       "13      M3C        North York   \n",
       "14      M4C         East York   \n",
       "\n",
       "                                        Neighborhoods  \n",
       "0                                           Parkwoods  \n",
       "1                                    Victoria Village  \n",
       "2                           Harbourfront, Regent Park  \n",
       "3                    Lawrence Heights, Lawrence Manor  \n",
       "4                                        Queen's Park  \n",
       "5                                    Islington Avenue  \n",
       "6                                      Rouge, Malvern  \n",
       "7                                     Don Mills North  \n",
       "8                     Woodbine Gardens, Parkview Hill  \n",
       "9                            Ryerson, Garden District  \n",
       "10                                          Glencairn  \n",
       "11  Cloverdale, Islington, Martin Grove, Princess ...  \n",
       "12             Highland Creek, Rouge Hill, Port Union  \n",
       "13                   Flemingdon Park, Don Mills South  \n",
       "14                                   Woodbine Heights  "
      ]
     },
     "execution_count": 38,
     "metadata": {},
     "output_type": "execute_result"
    }
   ],
   "source": [
    "\n",
    "df.head(15)"
   ]
  },
  {
   "cell_type": "markdown",
   "metadata": {},
   "source": [
    "Finally we save the dataframe as a csv file and also check its shape as was asked in the assignment. "
   ]
  },
  {
   "cell_type": "code",
   "execution_count": 39,
   "metadata": {},
   "outputs": [
    {
     "data": {
      "text/plain": [
       "(103, 3)"
      ]
     },
     "execution_count": 39,
     "metadata": {},
     "output_type": "execute_result"
    }
   ],
   "source": [
    "df.to_csv(r'C:\\Users\\arhip\\Desktop\\IBM\\projects\\Coursera_Capstone\\Toronto_data.csv')\n",
    "df.shape"
   ]
  },
  {
   "cell_type": "code",
   "execution_count": null,
   "metadata": {},
   "outputs": [],
   "source": []
  }
 ],
 "metadata": {
  "kernelspec": {
   "display_name": "Python 3",
   "language": "python",
   "name": "python3"
  },
  "language_info": {
   "codemirror_mode": {
    "name": "ipython",
    "version": 3
   },
   "file_extension": ".py",
   "mimetype": "text/x-python",
   "name": "python",
   "nbconvert_exporter": "python",
   "pygments_lexer": "ipython3",
   "version": "3.7.3"
  }
 },
 "nbformat": 4,
 "nbformat_minor": 2
}
